{
 "cells": [
  {
   "cell_type": "code",
   "execution_count": 4,
   "id": "05fcd058",
   "metadata": {},
   "outputs": [
    {
     "name": "stdout",
     "output_type": "stream",
     "text": [
      "\n",
      "Please  select operation you would like to complete:\n",
      "1 for addition\n",
      "2 for subtraction\n",
      "3 for multiplication\n",
      "4 for division\n",
      "4\n",
      "Enter your first number: 8\n",
      "Enter your second number: 2\n",
      "8 / 2 =  4.0\n"
     ]
    }
   ],
   "source": [
    "operation = input('''\n",
    "Please  select operation you would like to complete:\n",
    "1 for addition\n",
    "2 for subtraction\n",
    "3 for multiplication\n",
    "4 for division\n",
    "''')\n",
    "\n",
    "number_1 = int(input('Enter your first number: '))\n",
    "number_2 = int(input('Enter your second number: '))\n",
    "\n",
    "if operation == '1':\n",
    "    print('{} + {} = '.format(number_1, number_2),(number_1+number_2))\n",
    "    \n",
    "\n",
    "elif operation == '2':\n",
    "    print('{} - {} = '.format(number_1, number_2),(number_1 - number_2))\n",
    "\n",
    "elif operation == '3':\n",
    "    print('{} * {} = '.format(number_1, number_2),(number_1 * number_2))\n",
    "\n",
    "elif operation == '4':\n",
    "    print('{} / {} = '.format(number_1, number_2),(number_1 / number_2))\n",
    "\n",
    "else:\n",
    "    print('You have not typed a valid operator, please run the program again.')"
   ]
  }
 ],
 "metadata": {
  "kernelspec": {
   "display_name": "Python 3 (ipykernel)",
   "language": "python",
   "name": "python3"
  },
  "language_info": {
   "codemirror_mode": {
    "name": "ipython",
    "version": 3
   },
   "file_extension": ".py",
   "mimetype": "text/x-python",
   "name": "python",
   "nbconvert_exporter": "python",
   "pygments_lexer": "ipython3",
   "version": "3.9.7"
  }
 },
 "nbformat": 4,
 "nbformat_minor": 5
}
